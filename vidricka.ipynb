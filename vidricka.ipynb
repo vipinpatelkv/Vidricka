{
 "cells": [
  {
   "cell_type": "code",
   "execution_count": 1,
   "metadata": {},
   "outputs": [],
   "source": [
    "## import libraries\n",
    "\n",
    "from tkinter import *\n",
    "from gtts import gTTS\n",
    "from playsound import playsound\n",
    "import os\n",
    "\n",
    "\n",
    "\n",
    "################### Initialized window####################\n",
    "\n",
    "root = Tk()\n",
    "root.geometry('400x500')\n",
    "root.resizable(0,0)\n",
    "root.config(bg = 'ghost white')\n",
    "root.title('VIPIN DEVICE VIDRICKA - TEXT_TO_SPEECH')\n",
    "\n",
    "\n",
    "##heading\n",
    "Label(root, text = 'VIDRICKA TEXT_TO_SPEECH' , font='arial 20 bold' , bg ='white smoke').pack()\n",
    "Label(root, text ='VIPIN DEVICE VIDRICKA' , font ='arial 15 bold', bg = 'white smoke').pack(side = BOTTOM)\n",
    "\n",
    "\n",
    "\n",
    "\n",
    "#label\n",
    "Label(root, text ='Enter Text', font ='arial 15 bold', bg ='white smoke').place(x=20,y=60)\n",
    "\n",
    "\n",
    "##text variable\n",
    "Msg = StringVar()\n",
    "\n",
    "\n",
    "#Entry\n",
    "entry_field = Entry(root,textvariable =Msg, width ='100')\n",
    "entry_field.place(x=20 , y=100)\n",
    "\n",
    "\n",
    "###################define function##############################\n",
    "\n",
    "def Text_to_speech():\n",
    "    Message = entry_field.get()\n",
    "    speech = gTTS(text = Message)\n",
    "    speech.save('VipinProject.mp3')\n",
    "    playsound('VipinProject.mp3')\n",
    "    os.remove('VipinProject.mp3')\n",
    "\n",
    "def Exit():\n",
    "    root.destroy()\n",
    "\n",
    "def Reset():\n",
    "    Msg.set(\"\")\n",
    "\n",
    "#Button\n",
    "Button(root, text = \"PLAY\" , font = 'arial 15 bold', command = Text_to_speech, width =4).place(x=25, y=140)\n",
    "Button(root,text = 'EXIT',font = 'arial 15 bold' , command = Exit, bg = 'OrangeRed1').place(x=100,y=140)\n",
    "Button(root, text = 'RESET', font='arial 15 bold', command = Reset).place(x=175 , y =140)\n",
    "\n",
    "\n",
    "#infinite loop to run program\n",
    "root.mainloop()"
   ]
  },
  {
   "cell_type": "code",
   "execution_count": null,
   "metadata": {},
   "outputs": [],
   "source": []
  },
  {
   "cell_type": "code",
   "execution_count": null,
   "metadata": {},
   "outputs": [],
   "source": []
  }
 ],
 "metadata": {
  "kernelspec": {
   "display_name": "Python 3",
   "language": "python",
   "name": "python3"
  },
  "language_info": {
   "codemirror_mode": {
    "name": "ipython",
    "version": 3
   },
   "file_extension": ".py",
   "mimetype": "text/x-python",
   "name": "python",
   "nbconvert_exporter": "python",
   "pygments_lexer": "ipython3",
   "version": "3.7.3"
  }
 },
 "nbformat": 4,
 "nbformat_minor": 2
}
